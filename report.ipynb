{
  "cells": [
    {
      "cell_type": "markdown",
      "metadata": {},
      "source": [
        "# <p style=\"text-align:center;\">Lập trình song song - CQ2021/21</p>\n",
        "# <p style=\"text-align:center;\">ĐỒ ÁN CUỐI KỲ</p>\n",
        "## <p style=\"text-align:center;\">Triển khai và tối ưu ANN</p>\n",
        "### <p style=\"text-align:center;\">Nhóm 8</p>"
      ]
    },
    {
      "cell_type": "markdown",
      "metadata": {
        "id": "XhXjDYKD7BZZ"
      },
      "source": [
        "# 1. Thành viên\n",
        "MSSV | Họ tên\n",
        "--- | ---\n",
        "21120403 | Nguyễn Hoàng Quân\n",
        "21120407 | Trần Phan Phúc Ân\n",
        "21120429 | Lưu Kiến Đạt"
      ]
    },
    {
      "cell_type": "markdown",
      "metadata": {},
      "source": [
        "# 2. Yêu cầu đề bài"
      ]
    },
    {
      "cell_type": "markdown",
      "metadata": {},
      "source": [
        "- ## Triển khai và tối ưu một ANN truyền thống.\n",
        "- ## Bộ dữ liệu sử dụng sẽ là Fashion-MNIST của Zalando.\n",
        "- ## Mục tiêu tìm hiểu: Sử dụng CUDA để triển khai và tối ưu ANN, trình bày được cách tiếp cận của các phương pháp tối ưu."
      ]
    },
    {
      "cell_type": "markdown",
      "metadata": {},
      "source": [
        "# 3. Tổng quan"
      ]
    },
    {
      "cell_type": "markdown",
      "metadata": {},
      "source": [
        "## a. ANN"
      ]
    },
    {
      "cell_type": "markdown",
      "metadata": {},
      "source": []
    },
    {
      "cell_type": "markdown",
      "metadata": {},
      "source": [
        "# 3. Build & Run"
      ]
    },
    {
      "cell_type": "markdown",
      "metadata": {
        "id": "AY5FOBXVLVxY"
      },
      "source": [
        "## Kết nối với Google Drive"
      ]
    },
    {
      "cell_type": "code",
      "execution_count": 12,
      "metadata": {
        "colab": {
          "base_uri": "https://localhost:8080/"
        },
        "id": "oOoGG1KsQW2q",
        "outputId": "8a3cbbad-3017-4517-98f8-ed32d3b675b9"
      },
      "outputs": [
        {
          "name": "stdout",
          "output_type": "stream",
          "text": [
            "Drive already mounted at /content/drive; to attempt to forcibly remount, call drive.mount(\"/content/drive\", force_remount=True).\n"
          ]
        }
      ],
      "source": [
        "from google.colab import drive\n",
        "drive.mount('/content/drive')"
      ]
    },
    {
      "cell_type": "code",
      "execution_count": 29,
      "metadata": {
        "colab": {
          "base_uri": "https://localhost:8080/"
        },
        "id": "ROfdQBiVXh6P",
        "outputId": "05f2fa70-4660-4a96-8868-eed953cd8a8c"
      },
      "outputs": [
        {
          "name": "stdout",
          "output_type": "stream",
          "text": [
            "/content/drive/MyDrive\n",
            " 05_Research#01.zip   \u001b[0m\u001b[01;34mANN-Final-Project\u001b[0m/    \u001b[01;34m'Colab Notebooks'\u001b[0m/           \u001b[01;34mLTSS\u001b[0m/\n",
            " \u001b[01;34mANN_Fashion_MNIST\u001b[0m/   \u001b[01;34mANN-Final-Project-2\u001b[0m/   jdk-8u202-windows-x64.exe   video1264118106.mp4\n"
          ]
        }
      ],
      "source": [
        "%cd /content/drive/MyDrive/\n",
        "%ls"
      ]
    },
    {
      "cell_type": "code",
      "execution_count": 30,
      "metadata": {
        "id": "gF0NV1CZ7BZc"
      },
      "outputs": [],
      "source": [
        "!rm -r ANN_Fashion_MNIST"
      ]
    },
    {
      "cell_type": "markdown",
      "metadata": {
        "id": "w4jycH3DLgAH"
      },
      "source": [
        "## Clone Repositories từ Github về và thực hiện lưu vào drive"
      ]
    },
    {
      "cell_type": "code",
      "execution_count": 31,
      "metadata": {
        "colab": {
          "base_uri": "https://localhost:8080/"
        },
        "id": "1B8wIa99XvHu",
        "outputId": "9874df7f-3082-4a90-cd48-1b81a90d5769"
      },
      "outputs": [
        {
          "name": "stdout",
          "output_type": "stream",
          "text": [
            "Cloning into 'ANN_Fashion_MNIST'...\n",
            "remote: Enumerating objects: 2289, done.\u001b[K\n",
            "remote: Counting objects: 100% (199/199), done.\u001b[K\n",
            "remote: Compressing objects: 100% (136/136), done.\u001b[K\n",
            "remote: Total 2289 (delta 142), reused 115 (delta 62), pack-reused 2090 (from 1)\u001b[K\n",
            "Receiving objects: 100% (2289/2289), 34.15 MiB | 13.25 MiB/s, done.\n",
            "Resolving deltas: 100% (505/505), done.\n",
            "Updating files: 100% (1885/1885), done.\n"
          ]
        }
      ],
      "source": [
        "!git clone https://github.com/NgHoangQuan2204/ANN_Fashion_MNIST.git"
      ]
    },
    {
      "cell_type": "code",
      "execution_count": 32,
      "metadata": {
        "id": "E4TrzLNKSlhi"
      },
      "outputs": [],
      "source": [
        "projectDirRootName = \"/content/drive/MyDrive/ANN_Fashion_MNIST/\""
      ]
    },
    {
      "cell_type": "code",
      "execution_count": 33,
      "metadata": {
        "colab": {
          "base_uri": "https://localhost:8080/"
        },
        "id": "bXSFDweYcJ-Q",
        "outputId": "98f0153a-9bf8-4feb-c65a-1fbba3b65484"
      },
      "outputs": [
        {
          "name": "stdout",
          "output_type": "stream",
          "text": [
            "/content/drive/MyDrive/ANN_Fashion_MNIST\n",
            "CMakeLists.txt  \u001b[0m\u001b[01;34mdata\u001b[0m/                  LICENSE    report.ipynb  \u001b[01;34mthird_party\u001b[0m/\n",
            "config.h        demo_Fashion_MNIST.cc  README.md  \u001b[01;34msrc\u001b[0m/\n"
          ]
        }
      ],
      "source": [
        "%cd {projectDirRootName}\n",
        "%ls"
      ]
    },
    {
      "cell_type": "code",
      "execution_count": 34,
      "metadata": {
        "colab": {
          "base_uri": "https://localhost:8080/"
        },
        "id": "YsjWN5AtcYcK",
        "outputId": "a7ba3515-2627-42f4-a94a-eb0ad97e83ca"
      },
      "outputs": [
        {
          "name": "stdout",
          "output_type": "stream",
          "text": [
            "rm: cannot remove 'build': No such file or directory\n",
            "/content/drive/MyDrive/ANN_Fashion_MNIST/build\n"
          ]
        }
      ],
      "source": [
        "%rm -r build\n",
        "%mkdir build\n",
        "%cd build\n",
        "%ls"
      ]
    },
    {
      "cell_type": "markdown",
      "metadata": {
        "id": "xMYm4GGULsiB"
      },
      "source": [
        "## Khởi chạy CMake"
      ]
    },
    {
      "cell_type": "code",
      "execution_count": 35,
      "metadata": {
        "colab": {
          "base_uri": "https://localhost:8080/"
        },
        "id": "4mc2YkdAqW1_",
        "outputId": "19fad9fe-a0f7-4429-8051-bc9e57058ac9"
      },
      "outputs": [
        {
          "name": "stdout",
          "output_type": "stream",
          "text": [
            "\u001b[0mCMake Deprecation Warning at CMakeLists.txt:1 (cmake_minimum_required):\n",
            "  Compatibility with CMake < 3.10 will be removed from a future version of\n",
            "  CMake.\n",
            "\n",
            "  Update the VERSION argument <min> value.  Or, use the <min>...<max> syntax\n",
            "  to tell CMake that the project requires at least <min> but has been updated\n",
            "  to work with policies introduced by <max> or earlier.\n",
            "\n",
            "\u001b[0m\n",
            "-- The CXX compiler identification is GNU 11.4.0\n",
            "-- The CUDA compiler identification is NVIDIA 12.2.140 with host compiler GNU 11.4.0\n",
            "-- Detecting CXX compiler ABI info\n",
            "-- Detecting CXX compiler ABI info - done\n",
            "-- Check for working CXX compiler: /usr/bin/c++ - skipped\n",
            "-- Detecting CXX compile features\n",
            "-- Detecting CXX compile features - done\n",
            "-- Detecting CUDA compiler ABI info\n",
            "-- Detecting CUDA compiler ABI info - done\n",
            "-- Check for working CUDA compiler: /usr/local/cuda/bin/nvcc - skipped\n",
            "-- Detecting CUDA compile features\n",
            "-- Detecting CUDA compile features - done\n",
            "-- Configuring done (4.6s)\n",
            "-- Generating done (0.3s)\n",
            "-- Build files have been written to: /content/drive/MyDrive/ANN_Fashion_MNIST/build\n"
          ]
        }
      ],
      "source": [
        "!cmake .."
      ]
    },
    {
      "cell_type": "code",
      "execution_count": 36,
      "metadata": {
        "colab": {
          "base_uri": "https://localhost:8080/"
        },
        "id": "FdwIP5bieHpm",
        "outputId": "0c11ef64-2d8e-4615-bdb4-8d3e60ff8373"
      },
      "outputs": [
        {
          "name": "stdout",
          "output_type": "stream",
          "text": [
            "[ -9%] \u001b[32mBuilding CXX object src/CMakeFiles/MiniDNNLib.dir/mnist.cc.o\u001b[0m\n",
            "[  0%] \u001b[32mBuilding CXX object src/CMakeFiles/MiniDNNLib.dir/network.cc.o\u001b[0m\n",
            "[  9%] \u001b[32mBuilding CUDA object src/CMakeFiles/MiniDNNLib.dir/layer/cuda_utilities.cu.o\u001b[0m\n",
            "[ 18%] \u001b[32mBuilding CXX object src/CMakeFiles/MiniDNNLib.dir/layer/dense.cc.o\u001b[0m\n",
            "[ 27%] \u001b[32mBuilding CXX object src/CMakeFiles/MiniDNNLib.dir/layer/relu.cc.o\u001b[0m\n",
            "[ 36%] \u001b[32mBuilding CXX object src/CMakeFiles/MiniDNNLib.dir/layer/softmax.cc.o\u001b[0m\n",
            "[ 45%] \u001b[32mBuilding CXX object src/CMakeFiles/MiniDNNLib.dir/loss/cross_entropy_loss.cc.o\u001b[0m\n",
            "[ 54%] \u001b[32mBuilding CXX object src/CMakeFiles/MiniDNNLib.dir/optimizer/sgd.cc.o\u001b[0m\n",
            "[ 63%] \u001b[32m\u001b[1mLinking CXX static library libMiniDNNLib.a\u001b[0m\n",
            "[ 63%] Built target MiniDNNLib\n",
            "[ 72%] \u001b[32mBuilding CXX object CMakeFiles/demo.dir/demo_Fashion_MNIST.cc.o\u001b[0m\n",
            "[ 81%] \u001b[32m\u001b[1mLinking CXX executable demo\u001b[0m\n",
            "[ 81%] Built target demo\n"
          ]
        }
      ],
      "source": [
        "!make"
      ]
    },
    {
      "cell_type": "markdown",
      "metadata": {
        "id": "zFM0yaS1J536"
      },
      "source": [
        "## Tính toán trên Host"
      ]
    },
    {
      "cell_type": "markdown",
      "metadata": {
        "id": "BrmxauoCIoum"
      },
      "source": [
        "### Version 1: Tính tuần tự phép nhân ma trận\n",
        "\n"
      ]
    },
    {
      "cell_type": "code",
      "execution_count": 42,
      "metadata": {
        "colab": {
          "base_uri": "https://localhost:8080/"
        },
        "id": "xUKBF8M3fVCs",
        "outputId": "aa51c1de-1c3d-4d96-a348-d324a4149e31"
      },
      "outputs": [
        {
          "name": "stdout",
          "output_type": "stream",
          "text": [
            "/content/drive/MyDrive/ANN_Fashion_MNIST/build\n",
            "CMakeCache.txt  \u001b[0m\u001b[01;34mCMakeFiles\u001b[0m/  cmake_install.cmake  \u001b[01;32mdemo\u001b[0m*  Makefile  \u001b[01;34msrc\u001b[0m/\n",
            "../data/fashion-mnist/\n",
            "mnist train number: 60000\n",
            "mnist test number: 10000\n",
            "\n",
            "Current version: 1\n",
            "\n",
            "0-th batch, loss: 2.29704\n",
            "100-th batch, loss: 2.05682\n",
            "200-th batch, loss: 1.29119\n",
            "300-th batch, loss: 0.876213\n",
            "400-th batch, loss: 0.696549\n",
            "500-th batch, loss: 0.792753\n",
            "Test acc: 0.731\n",
            "\n",
            "0-th batch, loss: 0.604908\n",
            "100-th batch, loss: 0.559792\n",
            "200-th batch, loss: 0.558594\n",
            "300-th batch, loss: 0.676402\n",
            "400-th batch, loss: 0.550005\n",
            "500-th batch, loss: 0.595025\n",
            "Test acc: 0.8057\n",
            "\n",
            "0-th batch, loss: 0.42618\n",
            "100-th batch, loss: 0.414777\n",
            "200-th batch, loss: 0.44024\n",
            "300-th batch, loss: 0.615668\n",
            "400-th batch, loss: 0.516792\n",
            "500-th batch, loss: 0.510114\n",
            "Test acc: 0.8241\n",
            "\n",
            "Average accuracy: 0.786933\n",
            "Train time: 7722 s\n",
            "Average forward times:\n",
            "Layer 1: 0 ms\n",
            "Layer 2: 0.230681 ms\n",
            "Layer 3: 313.999 ms\n",
            "Layer 4: 0.226775 ms\n",
            "Layer 5: 24.6263 ms\n",
            "Layer 6: 0.318624 ms\n",
            "Average backward times:\n",
            "Layer 1: 0 ms\n",
            "Layer 2: 0.767425 ms\n",
            "Layer 3: 280.894 ms\n",
            "Layer 4: 0.753444 ms\n",
            "Layer 5: 23.2879 ms\n",
            "Layer 6: 0 ms\n"
          ]
        }
      ],
      "source": [
        "%cd {projectDirRootName}build\n",
        "%ls\n",
        "!chmod 755 demo\n",
        "!./demo 1 1 1"
      ]
    },
    {
      "cell_type": "markdown",
      "metadata": {
        "id": "KNT7v5nXKVX9"
      },
      "source": [
        "# Tính toán trên Device"
      ]
    },
    {
      "cell_type": "markdown",
      "metadata": {
        "id": "UcD5qaJ6JOoS"
      },
      "source": [
        "### Version 2: Song song hóa việc tính toán phép nhân ma trận\n",
        "\n",
        "Thực hiện phép nhân hai ma trận A (m x n) và B (n x k) trên GPU."
      ]
    },
    {
      "cell_type": "code",
      "execution_count": 41,
      "metadata": {
        "colab": {
          "base_uri": "https://localhost:8080/"
        },
        "id": "ywx8RXL38Yiu",
        "outputId": "0f51ba0d-efde-4352-8771-722fec91cc74"
      },
      "outputs": [
        {
          "name": "stdout",
          "output_type": "stream",
          "text": [
            "/content/drive/MyDrive/ANN_Fashion_MNIST/build\n",
            "CMakeCache.txt  \u001b[0m\u001b[01;34mCMakeFiles\u001b[0m/  cmake_install.cmake  \u001b[01;32mdemo\u001b[0m*  Makefile  \u001b[01;34msrc\u001b[0m/\n",
            "../data/fashion-mnist/\n",
            "mnist train number: 60000\n",
            "mnist test number: 10000\n",
            "\n",
            "Current version: 2\n",
            "\n",
            "0-th batch, loss: 2.29704\n",
            "100-th batch, loss: 2.24769\n",
            "200-th batch, loss: 1.9674\n",
            "300-th batch, loss: 1.4336\n",
            "400-th batch, loss: 1.08982\n",
            "500-th batch, loss: 0.963414\n",
            "Test acc: 0.6567\n",
            "\n",
            "0-th batch, loss: 0.83105\n",
            "100-th batch, loss: 0.744537\n",
            "200-th batch, loss: 0.807077\n",
            "300-th batch, loss: 0.737341\n",
            "400-th batch, loss: 0.618878\n",
            "500-th batch, loss: 0.671799\n",
            "Test acc: 0.7698\n",
            "\n",
            "0-th batch, loss: 0.516766\n",
            "100-th batch, loss: 0.49816\n",
            "200-th batch, loss: 0.53324\n",
            "300-th batch, loss: 0.679849\n",
            "400-th batch, loss: 0.561464\n",
            "500-th batch, loss: 0.558168\n",
            "Test acc: 0.8073\n",
            "\n",
            "Average accuracy: 0.7446\n",
            "Train time: 511 s\n",
            "Average forward times:\n",
            "Layer 1: 0 ms\n",
            "Layer 2: 0.220079 ms\n",
            "Layer 3: 28.1041 ms\n",
            "Layer 4: 0.22129 ms\n",
            "Layer 5: 22.3592 ms\n",
            "Layer 6: 0.311647 ms\n",
            "Average backward times:\n",
            "Layer 1: 0 ms\n",
            "Layer 2: 0.764361 ms\n",
            "Layer 3: 36.3507 ms\n",
            "Layer 4: 0.749732 ms\n",
            "Layer 5: 19.7611 ms\n",
            "Layer 6: 0 ms\n"
          ]
        }
      ],
      "source": [
        "%cd {projectDirRootName}build\n",
        "%ls\n",
        "!chmod 755 demo\n",
        "!./demo 2 2 1"
      ]
    },
    {
      "cell_type": "markdown",
      "metadata": {
        "id": "rBuXDaMYKZj-"
      },
      "source": [
        "### Version 3: Tối ưu bằng tiled shared memory\n",
        "\n",
        "- Thực hiện phép nhân ma trận A (m x n) và B (n x k) trên GPU, nhưng được tối ưu hóa bằng kỹ thuật Tiled Shared Memory.\n",
        "\n",
        "- Cải thiện hiệu suất bằng cách giảm số lần truy cập bộ nhớ toàn cục (Global Memory) và thay vào đó sử dụng Shared Memory sẽ nhanh hơn nhiều."
      ]
    },
    {
      "cell_type": "code",
      "execution_count": 38,
      "metadata": {
        "colab": {
          "base_uri": "https://localhost:8080/"
        },
        "id": "KOhjtyW9Ket6",
        "outputId": "6229f443-e311-49ed-9bbc-e398e7558d88"
      },
      "outputs": [
        {
          "name": "stdout",
          "output_type": "stream",
          "text": [
            "/content/drive/MyDrive/ANN_Fashion_MNIST/build\n",
            "CMakeCache.txt  \u001b[0m\u001b[01;34mCMakeFiles\u001b[0m/  cmake_install.cmake  \u001b[01;32mdemo\u001b[0m*  Makefile  \u001b[01;34msrc\u001b[0m/\n",
            "../data/fashion-mnist/\n",
            "mnist train number: 60000\n",
            "mnist test number: 10000\n",
            "\n",
            "Current version: 3\n",
            "\n",
            "0-th batch, loss: 2.29704\n",
            "100-th batch, loss: 2.24769\n",
            "200-th batch, loss: 1.9674\n",
            "300-th batch, loss: 1.4336\n",
            "400-th batch, loss: 1.08982\n",
            "500-th batch, loss: 0.963414\n",
            "Test acc: 0.6567\n",
            "\n",
            "0-th batch, loss: 0.83105\n",
            "100-th batch, loss: 0.744537\n",
            "200-th batch, loss: 0.807077\n",
            "300-th batch, loss: 0.737341\n",
            "400-th batch, loss: 0.618878\n",
            "500-th batch, loss: 0.671799\n",
            "Test acc: 0.7698\n",
            "\n",
            "0-th batch, loss: 0.516766\n",
            "100-th batch, loss: 0.49816\n",
            "200-th batch, loss: 0.53324\n",
            "300-th batch, loss: 0.679849\n",
            "400-th batch, loss: 0.561464\n",
            "500-th batch, loss: 0.558168\n",
            "Test acc: 0.8073\n",
            "\n",
            "Average accuracy: 0.7446\n",
            "Train time: 506 s\n",
            "Average forward times:\n",
            "Layer 1: 0 ms\n",
            "Layer 2: 0.224982 ms\n",
            "Layer 3: 27.9518 ms\n",
            "Layer 4: 0.220011 ms\n",
            "Layer 5: 23.2365 ms\n",
            "Layer 6: 0.313674 ms\n",
            "Average backward times:\n",
            "Layer 1: 0 ms\n",
            "Layer 2: 0.765825 ms\n",
            "Layer 3: 35.8116 ms\n",
            "Layer 4: 0.758266 ms\n",
            "Layer 5: 20.009 ms\n",
            "Layer 6: 0 ms\n"
          ]
        }
      ],
      "source": [
        "%cd {projectDirRootName}build\n",
        "%ls\n",
        "!chmod 755 demo\n",
        "!./demo 3 3 1"
      ]
    },
    {
      "cell_type": "markdown",
      "metadata": {
        "id": "drhAP0rLKglG"
      },
      "source": [
        "### Version 4: Tối ưu bằng việc sử dụng shared memory cùng với input matrix unrolling.\n",
        "\n",
        "Sử dụng phương thức Unrolling trong vòng lặp\n",
        "\n",
        "- Sử dụng kỹ thuật được gọi là \"loop unrolling\" với tham số UNROLL_FACTOR. Việc này giúp cải thiện hiệu suất bằng cách giảm số lần lặp trong vòng lặp bên trong, từ đó giảm chi phí overhead của vòng lặp và tăng số lần lệnh được thực thi trong mỗi chu kỳ của một thread.\n",
        "-  Khi sử dụng unrolling trong matrixMultiplicationKernel_3, các chỉ số được tính toán để đảm bảo rằng mỗi thread sẽ xử lý một phần của dữ liệu tương ứng với giá trị UNROLL_FACTOR. Điều này cho phép kernel phân phối công việc một cách hiệu quả hơn giữa các thread, giảm thiểu sự trùng lặp và chờ đợi không cần thiết."
      ]
    },
    {
      "cell_type": "code",
      "execution_count": 39,
      "metadata": {
        "colab": {
          "base_uri": "https://localhost:8080/"
        },
        "id": "3XbbRHfCKlBi",
        "outputId": "88432ce6-3137-48da-db32-07b0d2736e86"
      },
      "outputs": [
        {
          "name": "stdout",
          "output_type": "stream",
          "text": [
            "/content/drive/MyDrive/ANN_Fashion_MNIST/build\n",
            "CMakeCache.txt  \u001b[0m\u001b[01;34mCMakeFiles\u001b[0m/  cmake_install.cmake  \u001b[01;32mdemo\u001b[0m*  Makefile  \u001b[01;34msrc\u001b[0m/\n",
            "../data/fashion-mnist/\n",
            "mnist train number: 60000\n",
            "mnist test number: 10000\n",
            "\n",
            "Current version: 4\n",
            "\n",
            "0-th batch, loss: 2.28473\n",
            "100-th batch, loss: 1.93651\n",
            "200-th batch, loss: 1.33266\n",
            "300-th batch, loss: 0.863647\n",
            "400-th batch, loss: 0.739346\n",
            "500-th batch, loss: 0.818349\n",
            "Test acc: 0.729\n",
            "\n",
            "0-th batch, loss: 0.626899\n",
            "100-th batch, loss: 0.537373\n",
            "200-th batch, loss: 0.587854\n",
            "300-th batch, loss: 0.735402\n",
            "400-th batch, loss: 0.602848\n",
            "500-th batch, loss: 0.633481\n",
            "Test acc: 0.7934\n",
            "\n",
            "0-th batch, loss: 0.453494\n",
            "100-th batch, loss: 0.402387\n",
            "200-th batch, loss: 0.455085\n",
            "300-th batch, loss: 0.675088\n",
            "400-th batch, loss: 0.566828\n",
            "500-th batch, loss: 0.554109\n",
            "Test acc: 0.8147\n",
            "\n",
            "Average accuracy: 0.779033\n",
            "Train time: 511 s\n",
            "Average forward times:\n",
            "Layer 1: 0 ms\n",
            "Layer 2: 0.221194 ms\n",
            "Layer 3: 27.644 ms\n",
            "Layer 4: 0.219223 ms\n",
            "Layer 5: 23.3489 ms\n",
            "Layer 6: 0.317195 ms\n",
            "Average backward times:\n",
            "Layer 1: 0 ms\n",
            "Layer 2: 0.758226 ms\n",
            "Layer 3: 35.9984 ms\n",
            "Layer 4: 0.757892 ms\n",
            "Layer 5: 20.101 ms\n",
            "Layer 6: 0 ms\n"
          ]
        }
      ],
      "source": [
        "%cd {projectDirRootName}build\n",
        "%ls\n",
        "!chmod 755 demo\n",
        "!./demo 4 4 1"
      ]
    },
    {
      "cell_type": "markdown",
      "metadata": {
        "id": "FXSjZVqbKn56"
      },
      "source": [
        "### Version 5: Tối ưu bằng cách sử dụng FP16 cho tính toán.\n",
        "\n",
        "- Chuyển dữ liệu từ float(32 bit) thành half(16 bit) để tăng tốc độ tính toán và giảm không gian lưu trữ."
      ]
    },
    {
      "cell_type": "code",
      "execution_count": 40,
      "metadata": {
        "colab": {
          "base_uri": "https://localhost:8080/"
        },
        "id": "Ii0Y0o09KrkM",
        "outputId": "d7c53097-7a61-46d6-d887-5b820601b3c2"
      },
      "outputs": [
        {
          "name": "stdout",
          "output_type": "stream",
          "text": [
            "/content/drive/MyDrive/ANN_Fashion_MNIST/build\n",
            "CMakeCache.txt  \u001b[0m\u001b[01;34mCMakeFiles\u001b[0m/  cmake_install.cmake  \u001b[01;32mdemo\u001b[0m*  Makefile  \u001b[01;34msrc\u001b[0m/\n",
            "../data/fashion-mnist/\n",
            "mnist train number: 60000\n",
            "mnist test number: 10000\n",
            "\n",
            "Current version: 5\n",
            "\n",
            "0-th batch, loss: 2.29703\n",
            "100-th batch, loss: 2.24794\n",
            "200-th batch, loss: 1.96785\n",
            "300-th batch, loss: 1.43454\n",
            "400-th batch, loss: 1.08932\n",
            "500-th batch, loss: 0.963197\n",
            "Test acc: 0.6582\n",
            "\n",
            "0-th batch, loss: 0.832356\n",
            "100-th batch, loss: 0.748205\n",
            "200-th batch, loss: 0.803876\n",
            "300-th batch, loss: 0.734892\n",
            "400-th batch, loss: 0.619211\n",
            "500-th batch, loss: 0.674558\n",
            "Test acc: 0.7701\n",
            "\n",
            "0-th batch, loss: 0.516038\n",
            "100-th batch, loss: 0.497142\n",
            "200-th batch, loss: 0.530313\n",
            "300-th batch, loss: 0.673217\n",
            "400-th batch, loss: 0.565724\n",
            "500-th batch, loss: 0.559334\n",
            "Test acc: 0.8069\n",
            "\n",
            "Average accuracy: 0.745067\n",
            "Train time: 516 s\n",
            "Average forward times:\n",
            "Layer 1: 0 ms\n",
            "Layer 2: 0.223078 ms\n",
            "Layer 3: 28.1185 ms\n",
            "Layer 4: 0.219744 ms\n",
            "Layer 5: 22.8668 ms\n",
            "Layer 6: 0.321101 ms\n",
            "Average backward times:\n",
            "Layer 1: 0 ms\n",
            "Layer 2: 0.767297 ms\n",
            "Layer 3: 36.4921 ms\n",
            "Layer 4: 0.761921 ms\n",
            "Layer 5: 19.7884 ms\n",
            "Layer 6: 0 ms\n"
          ]
        }
      ],
      "source": [
        "%cd {projectDirRootName}build\n",
        "%ls\n",
        "!chmod 755 demo\n",
        "!./demo 5 5 1"
      ]
    },
    {
      "cell_type": "markdown",
      "metadata": {
        "id": "VNXJI1ddK0Bt"
      },
      "source": [
        "## Thống kê các version\n",
        "Version | Average Accuracy | Train Time (s)\n",
        "--- | --- | ---\n",
        "1 | 0.786933 | 7722\n",
        "2 | 0.7446 | 514\n",
        "3 | 0.7446 | 506\n",
        "4 | 0.779033 | 511\n",
        "5 | 0.745067 | 516"
      ]
    },
    {
      "cell_type": "code",
      "execution_count": null,
      "metadata": {
        "id": "RN0xmOZxalGs"
      },
      "outputs": [],
      "source": []
    }
  ],
  "metadata": {
    "accelerator": "GPU",
    "colab": {
      "gpuType": "T4",
      "provenance": []
    },
    "kernelspec": {
      "display_name": "Python 3",
      "name": "python3"
    },
    "language_info": {
      "name": "python"
    }
  },
  "nbformat": 4,
  "nbformat_minor": 0
}
