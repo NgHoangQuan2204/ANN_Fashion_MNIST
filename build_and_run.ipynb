{
  "cells": [
    {
      "cell_type": "code",
      "execution_count": null,
      "metadata": {
        "colab": {
          "base_uri": "https://localhost:8080/"
        },
        "id": "oOoGG1KsQW2q",
        "outputId": "0cb23935-0dce-4e6a-d417-866df9b8a6f3"
      },
      "outputs": [],
      "source": [
        "from google.colab import drive\n",
        "drive.mount('/content/drive')"
      ]
    },
    {
      "cell_type": "code",
      "execution_count": null,
      "metadata": {
        "colab": {
          "base_uri": "https://localhost:8080/"
        },
        "id": "ROfdQBiVXh6P",
        "outputId": "a4a0d43d-eb69-4fae-ce12-d0e6c2344624"
      },
      "outputs": [],
      "source": [
        "%cd /content/drive/MyDrive/\n",
        "%ls"
      ]
    },
    {
      "cell_type": "code",
      "execution_count": 3,
      "metadata": {
        "id": "GL_I4dh0s_MK"
      },
      "outputs": [],
      "source": [
        "!rm -r ANN_Fashion_MNIST"
      ]
    },
    {
      "cell_type": "code",
      "execution_count": null,
      "metadata": {
        "colab": {
          "base_uri": "https://localhost:8080/"
        },
        "id": "1B8wIa99XvHu",
        "outputId": "b857f5f2-a466-4df6-e2d6-ea0a54fcc3c4"
      },
      "outputs": [],
      "source": [
        "!git clone https://github.com/NgHoangQuan2204/ANN_Fashion_MNIST.git"
      ]
    },
    {
      "cell_type": "code",
      "execution_count": 5,
      "metadata": {
        "id": "6s2sPf8pZgql"
      },
      "outputs": [],
      "source": [
        "projectDirRootName = \"/content/drive/MyDrive/ANN_Fashion_MNIST/\""
      ]
    },
    {
      "cell_type": "code",
      "execution_count": null,
      "metadata": {
        "colab": {
          "base_uri": "https://localhost:8080/"
        },
        "id": "bXSFDweYcJ-Q",
        "outputId": "741e2bc8-ef52-4690-893b-dfdd48c40592"
      },
      "outputs": [],
      "source": [
        "%cd {projectDirRootName}\n",
        "%ls"
      ]
    },
    {
      "cell_type": "code",
      "execution_count": null,
      "metadata": {
        "colab": {
          "base_uri": "https://localhost:8080/"
        },
        "id": "YsjWN5AtcYcK",
        "outputId": "241144be-277d-427c-d529-a188381f6bce"
      },
      "outputs": [],
      "source": [
        "%rm -r build\n",
        "%mkdir build\n",
        "%cd build\n",
        "%ls"
      ]
    },
    {
      "cell_type": "code",
      "execution_count": null,
      "metadata": {
        "colab": {
          "base_uri": "https://localhost:8080/"
        },
        "id": "4mc2YkdAqW1_",
        "outputId": "361b326a-99de-4984-81a0-9b25eccffb6e"
      },
      "outputs": [],
      "source": [
        "!cmake .."
      ]
    },
    {
      "cell_type": "code",
      "execution_count": null,
      "metadata": {
        "colab": {
          "base_uri": "https://localhost:8080/"
        },
        "id": "FdwIP5bieHpm",
        "outputId": "8cac09b5-06ce-46a9-82de-d3d54255fa5b"
      },
      "outputs": [],
      "source": [
        "!make"
      ]
    },
    {
      "cell_type": "code",
      "execution_count": null,
      "metadata": {
        "colab": {
          "base_uri": "https://localhost:8080/"
        },
        "id": "OoxfJMk7p31J",
        "outputId": "4387cf9b-356f-49e4-b1ce-48098be74370"
      },
      "outputs": [],
      "source": [
        "%cd {projectDirRootName}build\n",
        "%ls\n",
        "!chmod 755 demo"
      ]
    },
    {
      "cell_type": "markdown",
      "metadata": {},
      "source": [
        "- Sử dụng lệnh `!/demo [startVersion] [endVersion]` để chạy mô hình"
      ]
    },
    {
      "cell_type": "code",
      "execution_count": null,
      "metadata": {},
      "outputs": [],
      "source": [
        "!./demo 1 5"
      ]
    }
  ],
  "metadata": {
    "accelerator": "GPU",
    "colab": {
      "gpuType": "T4",
      "provenance": []
    },
    "kernelspec": {
      "display_name": "Python 3",
      "name": "python3"
    },
    "language_info": {
      "name": "python"
    }
  },
  "nbformat": 4,
  "nbformat_minor": 0
}
